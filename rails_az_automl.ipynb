{
  "cells": [
    {
      "cell_type": "code",
      "source": [
        "import logging\n",
        "\n",
        "from matplotlib import pyplot as plt\n",
        "import pandas as pd\n",
        "import numpy as np\n",
        "\n",
        "import azureml.core\n",
        "from azureml.core.experiment import Experiment\n",
        "from azureml.core.workspace import Workspace\n",
        "from azureml.core.dataset import Dataset\n",
        "from azureml.train.automl import AutoMLConfig\n",
        "from azureml.train.automl import utilities"
      ],
      "outputs": [],
      "execution_count": 1,
      "metadata": {
        "gather": {
          "logged": 1644863046791
        }
      }
    },
    {
      "cell_type": "code",
      "source": [
        "# import os\n",
        "# os.environ['NUMEXPR_MAX_THREADS'] = '32'"
      ],
      "outputs": [],
      "execution_count": 2,
      "metadata": {
        "jupyter": {
          "source_hidden": false,
          "outputs_hidden": false
        },
        "nteract": {
          "transient": {
            "deleting": false
          }
        },
        "gather": {
          "logged": 1644863046946
        }
      }
    },
    {
      "cell_type": "code",
      "source": [
        "subscription_id = 'ab5d067c-dd35-478e-b198-570174e0b8b3'\n",
        "resource_group = 'rg-cschick'\n",
        "workspace_name = 'mlw-cschick'\n",
        "\n",
        "workspace = Workspace(subscription_id, resource_group, workspace_name)\n",
        "\n",
        "experiment_name = \"rails-automl\"\n",
        "experiment = Experiment(workspace, experiment_name)"
      ],
      "outputs": [],
      "execution_count": 3,
      "metadata": {
        "jupyter": {
          "source_hidden": false,
          "outputs_hidden": false
        },
        "nteract": {
          "transient": {
            "deleting": false
          }
        },
        "gather": {
          "logged": 1644863048923
        }
      }
    },
    {
      "cell_type": "code",
      "source": [
        "dataset = Dataset.get_by_name(workspace, name='KIRACLRA')\n",
        "# dataset.to_pandas_dataframe()\n",
        "\n",
        "training_data, validation_data = dataset.random_split(percentage=0.8, seed=223)\n",
        "label_column_name = \"Species\"\n",
        "positive_label = 'CLRA'"
      ],
      "outputs": [],
      "execution_count": 4,
      "metadata": {
        "jupyter": {
          "source_hidden": false,
          "outputs_hidden": false
        },
        "nteract": {
          "transient": {
            "deleting": false
          }
        },
        "gather": {
          "logged": 1644863050963
        }
      }
    },
    {
      "cell_type": "code",
      "source": [
        "automl_settings = {\n",
        "    \"n_cross_validations\": 5,\n",
        "    \"primary_metric\": \"accuracy\",\n",
        "    \"iteration_timeout_minutes\": 30,\n",
        "    \"experiment_timeout_hours\": 1,\n",
        "    \"max_cores_per_iteration\": -1,\n",
        "    \"enable_early_stopping\": False,\n",
        "    \"verbosity\": logging.INFO,\n",
        "    \"enable_stack_ensemble\": False,\n",
        "}\n",
        "\n",
        "automl_config = AutoMLConfig(\n",
        "    task=\"classification\",\n",
        "    debug_log=\"automl_errors.log\",\n",
        "    training_data=training_data,\n",
        "    label_column_name=label_column_name,\n",
        "    positive_label = positive_label,\n",
        "    **automl_settings,\n",
        ")"
      ],
      "outputs": [],
      "execution_count": 5,
      "metadata": {
        "jupyter": {
          "source_hidden": false,
          "outputs_hidden": false
        },
        "nteract": {
          "transient": {
            "deleting": false
          }
        },
        "gather": {
          "logged": 1644863051042
        }
      }
    },
    {
      "cell_type": "code",
      "source": [
        "utilities.get_primary_metrics(\"classification\")\n"
      ],
      "outputs": [
        {
          "output_type": "execute_result",
          "execution_count": 6,
          "data": {
            "text/plain": "['AUC_weighted',\n 'precision_score_weighted',\n 'average_precision_score_weighted',\n 'accuracy',\n 'norm_macro_recall']"
          },
          "metadata": {}
        }
      ],
      "execution_count": 6,
      "metadata": {
        "jupyter": {
          "source_hidden": false,
          "outputs_hidden": false
        },
        "nteract": {
          "transient": {
            "deleting": false
          }
        },
        "gather": {
          "logged": 1644863051136
        }
      }
    },
    {
      "cell_type": "code",
      "source": [
        "local_run = experiment.submit(automl_config, show_output=True)"
      ],
      "outputs": [
        {
          "output_type": "stream",
          "name": "stdout",
          "text": "No run_configuration provided, running on local with default configuration\nRunning in the active local environment.\n"
        },
        {
          "output_type": "stream",
          "name": "stderr",
          "text": "2022-02-14:18:24:14,184 INFO     [modeling_bert.py:226] Better speed can be achieved with apex installed from https://www.github.com/nvidia/apex .\n2022-02-14:18:24:14,189 INFO     [modeling_xlnet.py:339] Better speed can be achieved with apex installed from https://www.github.com/nvidia/apex .\n2022-02-14:18:24:18,457 INFO     [utils.py:159] NumExpr defaulting to 4 threads.\n"
        },
        {
          "output_type": "display_data",
          "data": {
            "text/plain": "<IPython.core.display.HTML object>",
            "text/html": "<table style=\"width:100%\"><tr><th>Experiment</th><th>Id</th><th>Type</th><th>Status</th><th>Details Page</th><th>Docs Page</th></tr><tr><td>rails-automl</td><td>AutoML_7555dda6-8cf1-4b25-a7e9-f78154387a2d</td><td>automl</td><td>Preparing</td><td><a href=\"https://ml.azure.com/runs/AutoML_7555dda6-8cf1-4b25-a7e9-f78154387a2d?wsid=/subscriptions/ab5d067c-dd35-478e-b198-570174e0b8b3/resourcegroups/rg-cschick/workspaces/mlw-cschick&amp;tid=19309433-eec0-484d-bde9-dd255cdc1ed6\" target=\"_blank\" rel=\"noopener\">Link to Azure Machine Learning studio</a></td><td><a href=\"https://docs.microsoft.com/en-us/python/api/overview/azure/ml/intro?view=azure-ml-py\" target=\"_blank\" rel=\"noopener\">Link to Documentation</a></td></tr></table>"
          },
          "metadata": {}
        },
        {
          "output_type": "stream",
          "name": "stdout",
          "text": "Current status: DatasetEvaluation. Gathering dataset statistics.\nCurrent status: FeaturesGeneration. Generating features for the dataset.\nCurrent status: DatasetFeaturization. Beginning to fit featurizers and featurize the dataset.\nCurrent status: DatasetFeaturizationCompleted. Completed fit featurizers and featurizing the dataset.\nCurrent status: DatasetCrossValidationSplit. Generating individually featurized CV splits.\n\n********************************************************************************************\nDATA GUARDRAILS: \n\nTYPE:         Class balancing detection\nSTATUS:       PASSED\nDESCRIPTION:  Your inputs were analyzed, and all classes are balanced in your training data.\n              Learn more about imbalanced data: https://aka.ms/AutomatedMLImbalancedData\n\n********************************************************************************************\n\nTYPE:         Missing feature values imputation\nSTATUS:       PASSED\nDESCRIPTION:  No feature missing values were detected in the training data.\n              Learn more about missing value imputation: https://aka.ms/AutomatedMLFeaturization\n\n********************************************************************************************\n\nTYPE:         High cardinality feature detection\nSTATUS:       PASSED\nDESCRIPTION:  Your inputs were analyzed, and no high cardinality features were detected.\n              Learn more about high cardinality feature handling: https://aka.ms/AutomatedMLFeaturization\n\n********************************************************************************************\nCurrent status: ModelSelection. Beginning model selection.\n\n********************************************************************************************\nITER: The iteration being evaluated.\nPIPELINE: A summary description of the pipeline being evaluated.\nDURATION: Time taken for the current iteration.\nMETRIC: The result of computing score on the fitted pipeline.\nBEST: The best observed score thus far.\n********************************************************************************************\n\n ITER   PIPELINE                                       DURATION            METRIC      BEST\n    0   MaxAbsScaler LightGBM                          0:00:25             0.7911    0.7911\n    1   MaxAbsScaler XGBoostClassifier                 0:00:25             0.7618    0.7911\n    2   MaxAbsScaler ExtremeRandomTrees                0:00:32             0.6739    0.7911\n    3   SparseNormalizer XGBoostClassifier             0:00:24             0.6803    0.7911\n    4   StandardScalerWrapper KNN                      0:00:29             0.7592    0.7911\n    5   MaxAbsScaler LightGBM                          0:00:25             0.7490    0.7911\n    6   RobustScaler LogisticRegression                0:00:26             0.5541    0.7911\n    7   MaxAbsScaler LightGBM                          0:00:24             0.7414    0.7911\n    8   StandardScalerWrapper KNN                      0:00:24             0.7669    0.7911\n    9   StandardScalerWrapper SVM                      0:00:25             0.7503    0.7911\n   10   StandardScalerWrapper XGBoostClassifier        0:00:25             0.7885    0.7911\n   11   MinMaxScaler RandomForest                      0:00:30             0.6803    0.7911\n   12   StandardScalerWrapper LogisticRegression       0:00:29             0.6701    0.7911\n   13   StandardScalerWrapper KNN                      0:00:28             0.7389    0.7911\n   14   RobustScaler KNN                               0:00:26             0.7694    0.7911\n   15   MinMaxScaler KNN                               0:00:25             0.7580    0.7911\n   16   SparseNormalizer KNN                           0:00:24             0.6752    0.7911\n   17   MaxAbsScaler LogisticRegression                0:00:29             0.5529    0.7911\n   18   StandardScalerWrapper XGBoostClassifier        0:00:26             0.7592    0.7911\n   19   StandardScalerWrapper XGBoostClassifier        0:00:26             0.7439    0.7911\n   20   MaxAbsScaler LogisticRegression                0:00:28             0.5554    0.7911\n   21   StandardScalerWrapper XGBoostClassifier        0:00:25             0.7414    0.7911\n   22   StandardScalerWrapper LightGBM                 0:00:25             0.7312    0.7911\n   23   StandardScalerWrapper LightGBM                 0:00:26             0.7197    0.7911\n   24   RobustScaler KNN                               0:00:25             0.7580    0.7911\n   25   MaxAbsScaler LightGBM                          0:00:25             0.7287    0.7911\n   26   StandardScalerWrapper LightGBM                 0:00:24             0.7261    0.7911\n   27   TruncatedSVDWrapper RandomForest               0:00:29             0.7363    0.7911\n   28   StandardScalerWrapper KNN                      0:00:25             0.7682    0.7911\n   29   RobustScaler KNN                               0:00:25             0.7631    0.7911\n   30   RobustScaler LightGBM                          0:00:25             0.7032    0.7911\n   31   MinMaxScaler RandomForest                      0:00:26             0.7057    0.7911\n   32   StandardScalerWrapper LightGBM                 0:00:25             0.7427    0.7911\n   33   StandardScalerWrapper LightGBM                 0:00:25             0.7490    0.7911\n   34   MaxAbsScaler LightGBM                          0:00:26             0.7414    0.7911\n   35   StandardScalerWrapper LightGBM                 0:00:26             0.6777    0.7911\n   36   StandardScalerWrapper LightGBM                 0:00:25             0.6981    0.7911\n   37   StandardScalerWrapper RandomForest             0:00:27             0.7070    0.7911\n   38   SparseNormalizer XGBoostClassifier             0:00:26             0.6586    0.7911\n   39   MaxAbsScaler LightGBM                          0:00:26             0.7032    0.7911\n   40   MaxAbsScaler LightGBM                          0:00:25             0.7669    0.7911\n   41   StandardScalerWrapper KNN                      0:00:24             0.7580    0.7911\n   42   MaxAbsScaler LightGBM                          0:00:22             0.7032    0.7911\n   43   StandardScalerWrapper LightGBM                 0:00:24             0.7248    0.7911\n   44   StandardScalerWrapper LightGBM                 0:00:25             0.7338    0.7911\n   45   MaxAbsScaler LightGBM                          0:00:25             0.6726    0.7911\n   46   MinMaxScaler RandomForest                      0:00:26             0.7312    0.7911\n   47   RobustScaler KNN                               0:00:24             0.7758    0.7911\n   48   StandardScalerWrapper LightGBM                 0:00:27             0.7414    0.7911\n   49   StandardScalerWrapper KNN                      0:00:26             0.7605    0.7911\n   50   MinMaxScaler LightGBM                          0:00:25             0.7146    0.7911\n   51   StandardScalerWrapper KNN                      0:00:24             0.7631    0.7911\n   52   StandardScalerWrapper KNN                      0:00:24             0.7554    0.7911\n   53   RobustScaler LightGBM                          0:00:24             0.7885    0.7911\n   54   StandardScalerWrapper LightGBM                 0:00:23             0.7363    0.7911\n   55   MinMaxScaler LightGBM                          0:00:26             0.6803    0.7911\n   56   MaxAbsScaler RandomForest                      0:00:27             0.6981    0.7911\n   57   StandardScalerWrapper KNN                      0:00:24             0.7567    0.7911\n   58   MaxAbsScaler LightGBM                          0:00:24             0.6701    0.7911\n   59   StandardScalerWrapper RandomForest             0:00:28             0.6561    0.7911\n   60   MinMaxScaler LightGBM                          0:00:25             0.6994    0.7911\n   61   StandardScalerWrapper ExtremeRandomTrees       0:00:28             0.6382    0.7911\n   62   MaxAbsScaler LightGBM                          0:00:25             0.7631    0.7911\n   63   StandardScalerWrapper KNN                      0:00:26             0.7592    0.7911\n   64   MaxAbsScaler LightGBM                          0:00:33             0.7541    0.7911\n   65   StandardScalerWrapper LightGBM                 0:00:24             0.6955    0.7911\n   66   StandardScalerWrapper LightGBM                 0:00:23             0.7936    0.7936\n   67   MaxAbsScaler LightGBM                          0:00:25             0.7287    0.7936\n   68   StandardScalerWrapper LightGBM                 0:00:24             0.6981    0.7936\n   69   RobustScaler LightGBM                          0:00:24             0.7554    0.7936\n   70   StandardScalerWrapper LightGBM                 0:00:25             0.4611    0.7936\n   71   RobustScaler LightGBM                          0:00:25             0.7338    0.7936\n   72   StandardScalerWrapper LightGBM                 0:00:25             0.6866    0.7936\n   73   StandardScalerWrapper LightGBM                 0:00:24             0.7439    0.7936\n   74   StandardScalerWrapper LightGBM                 0:00:24             0.7083    0.7936\n   75   RobustScaler LightGBM                          0:00:24             0.6675    0.7936\n   76   SparseNormalizer XGBoostClassifier             0:00:24             0.6510    0.7936\n   77   RobustScaler LightGBM                          0:00:24             0.7057    0.7936\n   78   RobustScaler KNN                               0:00:23             0.7567    0.7936\n   79   RobustScaler KNN                               0:00:23             0.7669    0.7936\n   80   PCA LightGBM                                   0:00:24             0.5987    0.7936\n   81   RobustScaler KNN                               0:00:24             0.7605    0.7936\n   82   StandardScalerWrapper LightGBM                 0:00:24             0.6841    0.7936\n   83   StandardScalerWrapper KNN                      0:00:24             0.7669    0.7936\n   84   RobustScaler KNN                               0:00:24             0.7643    0.7936\n   85   StandardScalerWrapper LightGBM                 0:00:24             0.7223    0.7936\n   86   MaxAbsScaler RandomForest                      0:00:30             0.6777    0.7936\n   87   StandardScalerWrapper LightGBM                 0:00:24             0.7006    0.7936\n   88   RobustScaler KNN                               0:00:26             0.7580    0.7936\n   89   MaxAbsScaler LightGBM                          0:00:25             0.7720    0.7936\n   90   StandardScalerWrapper LightGBM                 0:00:25             0.6637    0.7936\n   91   StandardScalerWrapper KNN                      0:00:25             0.7758    0.7936\n   92   RobustScaler KNN                               0:00:26             0.7669    0.7936\n   93   RobustScaler KNN                               0:00:25             0.7592    0.7936\n   94   StandardScalerWrapper KNN                      0:00:27             0.7669    0.7936\n   95   MinMaxScaler LightGBM                          0:00:25             0.7745    0.7936\n   96   StandardScalerWrapper KNN                      0:00:24             0.7592    0.7936\n   97   RobustScaler KNN                               0:00:30             0.7758    0.7936\n   98   StandardScalerWrapper KNN                      0:00:25             0.7631    0.7936\n   99   StandardScalerWrapper KNN                      0:00:25             0.7707    0.7936\n  100   StandardScalerWrapper LightGBM                 0:00:25             0.6892    0.7936\n  101   RobustScaler LightGBM                          0:00:25             0.7325    0.7936\n  102   StandardScalerWrapper KNN                      0:00:24             0.7669    0.7936\n  103   RobustScaler KNN                               0:00:25             0.7758    0.7936\n  104   StandardScalerWrapper KNN                      0:00:27             0.7682    0.7936\n  105   MinMaxScaler LightGBM                          0:00:24             0.7274    0.7936\n  106   StandardScalerWrapper KNN                      0:00:25             0.7631    0.7936\n  107   RobustScaler KNN                               0:00:24             0.7669    0.7936\n  108   RobustScaler KNN                               0:00:24             0.7669    0.7936\n  109   RobustScaler KNN                               0:00:26             0.7389    0.7936\n  110   MinMaxScaler LightGBM                          0:00:25             0.5592    0.7936\n  111   RobustScaler KNN                               0:00:25             0.7567    0.7936\n  112   MaxAbsScaler ExtremeRandomTrees                0:00:30             0.6217    0.7936\n  113   StandardScalerWrapper RandomForest             0:00:25             0.7401    0.7936\n  114   RobustScaler KNN                               0:00:24             0.7631    0.7936\n  115   MaxAbsScaler LightGBM                          0:00:27             0.7287    0.7936\n  116   SparseNormalizer LightGBM                      0:00:24             0.6497    0.7936\n  117   TruncatedSVDWrapper XGBoostClassifier          0:00:25             0.6611    0.7936\n  118   StandardScalerWrapper KNN                      0:00:25             0.7682    0.7936\n  119   StandardScalerWrapper KNN                      0:00:25             0.7592    0.7936\n  120   MinMaxScaler LightGBM                          0:00:26             0.7287    0.7936\n  121   RobustScaler KNN                               0:00:26             0.7592    0.7936\n  122   RobustScaler KNN                               0:00:25             0.7669    0.7936\n  123   RobustScaler KNN                               0:00:25             0.7669    0.7936\n  124   StandardScalerWrapper KNN                      0:00:25             0.7580    0.7936\n  125   MinMaxScaler LightGBM                          0:00:24             0.7057    0.7936\n  126   RobustScaler KNN                               0:00:24             0.7707    0.7936\n  127   StandardScalerWrapper KNN                      0:00:23             0.7669    0.7936\n  128   StandardScalerWrapper KNN                      0:00:24             0.7682    0.7936\n  129   RobustScaler KNN                               0:00:25             0.7503    0.7936\n  130   MaxAbsScaler LightGBM                          0:00:24             0.6866    0.7936\n  131   VotingEnsemble                                 0:00:46             0.8064    0.8064\nStopping criteria reached at iteration 132. Ending experiment.\n********************************************************************************************\nCurrent status: BestRunExplainModel. Best run model explanations started\nCurrent status: ModelExplanationDataSetSetup. Model explanations data setup completed\nCurrent status: PickSurrogateModel. Choosing LightGBM as the surrogate model for explanations\nCurrent status: EngineeredFeatureExplanations. Computation of engineered features started\nCurrent status: EngineeredFeatureExplanations. Computation of engineered features completed\nCurrent status: RawFeaturesExplanations. Computation of raw features started\nCurrent status: RawFeaturesExplanations. Computation of raw features completed\nCurrent status: BestRunExplainModel. Best run model explanations completed\n********************************************************************************************\n"
        },
        {
          "output_type": "stream",
          "name": "stderr",
          "text": "2022-02-14:19:32:38,223 INFO     [explanation_client.py:334] Using default datastore for uploads\n"
        }
      ],
      "execution_count": 7,
      "metadata": {
        "jupyter": {
          "source_hidden": false,
          "outputs_hidden": false
        },
        "nteract": {
          "transient": {
            "deleting": false
          }
        },
        "gather": {
          "logged": 1644867166245
        }
      }
    },
    {
      "cell_type": "code",
      "source": [
        "local_run"
      ],
      "outputs": [
        {
          "output_type": "execute_result",
          "execution_count": 8,
          "data": {
            "text/plain": "Run(Experiment: rails-automl,\nId: AutoML_7555dda6-8cf1-4b25-a7e9-f78154387a2d,\nType: automl,\nStatus: Completed)",
            "text/html": "<table style=\"width:100%\"><tr><th>Experiment</th><th>Id</th><th>Type</th><th>Status</th><th>Details Page</th><th>Docs Page</th></tr><tr><td>rails-automl</td><td>AutoML_7555dda6-8cf1-4b25-a7e9-f78154387a2d</td><td>automl</td><td>Completed</td><td><a href=\"https://ml.azure.com/runs/AutoML_7555dda6-8cf1-4b25-a7e9-f78154387a2d?wsid=/subscriptions/ab5d067c-dd35-478e-b198-570174e0b8b3/resourcegroups/rg-cschick/workspaces/mlw-cschick&amp;tid=19309433-eec0-484d-bde9-dd255cdc1ed6\" target=\"_blank\" rel=\"noopener\">Link to Azure Machine Learning studio</a></td><td><a href=\"https://docs.microsoft.com/en-us/python/api/overview/azure/ml/intro?view=azure-ml-py\" target=\"_blank\" rel=\"noopener\">Link to Documentation</a></td></tr></table>"
          },
          "metadata": {}
        }
      ],
      "execution_count": 8,
      "metadata": {
        "jupyter": {
          "source_hidden": false,
          "outputs_hidden": false
        },
        "nteract": {
          "transient": {
            "deleting": false
          }
        },
        "gather": {
          "logged": 1644867166582
        }
      }
    },
    {
      "cell_type": "code",
      "source": [
        "best_run, best_model = local_run.get_output()\n",
        "best_model"
      ],
      "outputs": [
        {
          "output_type": "execute_result",
          "execution_count": 9,
          "data": {
            "text/plain": "PipelineWithYTransformations(Pipeline={'memory': None,\n                                       'steps': [('datatransformer',\n                                                  DataTransformer(enable_dnn=False, enable_feature_sweeping=True, feature_sweeping_config={}, feature_sweeping_timeout=86400, featurization_config=None, force_text_dnn=False, is_cross_validation=True, is_onnx_compatible=False, observer=None, task='classification', working_dir='/mn...\n), random_state=None, reg_alpha=0.3684210526315789, reg_lambda=0.3684210526315789, subsample=0.7921052631578948))], verbose=False))], flatten_transform=None, weights=[0.2727272727272727, 0.09090909090909091, 0.18181818181818182, 0.09090909090909091, 0.09090909090909091, 0.09090909090909091, 0.09090909090909091, 0.09090909090909091]))],\n                                       'verbose': False},\n                             y_transformer={},\n                             y_transformer_name='LabelEncoder')"
          },
          "metadata": {}
        }
      ],
      "execution_count": 9,
      "metadata": {
        "jupyter": {
          "source_hidden": false,
          "outputs_hidden": false
        },
        "nteract": {
          "transient": {
            "deleting": false
          }
        },
        "gather": {
          "logged": 1644867167474
        }
      }
    },
    {
      "cell_type": "code",
      "source": [
        "# convert the test data to dataframe\n",
        "X_test_df = validation_data.drop_columns(\n",
        "    columns=[label_column_name]\n",
        ").to_pandas_dataframe()\n",
        "y_test_df = validation_data.keep_columns(\n",
        "    columns=[label_column_name], validate=True\n",
        ").to_pandas_dataframe()"
      ],
      "outputs": [],
      "execution_count": 10,
      "metadata": {
        "jupyter": {
          "source_hidden": false,
          "outputs_hidden": false
        },
        "nteract": {
          "transient": {
            "deleting": false
          }
        },
        "gather": {
          "logged": 1644867168217
        }
      }
    },
    {
      "cell_type": "code",
      "source": [
        "# call the predict functions on the model\n",
        "y_pred = best_model.predict(X_test_df)\n",
        "y_pred"
      ],
      "outputs": [
        {
          "output_type": "execute_result",
          "execution_count": 11,
          "data": {
            "text/plain": "array(['CLRA', 'KIRA', 'KIRA', 'CLRA', 'CLRA', 'CLRA', 'CLRA', 'CLRA',\n       'CLRA', 'CLRA', 'KIRA', 'CLRA', 'CLRA', 'KIRA', 'CLRA', 'CLRA',\n       'CLRA', 'CLRA', 'CLRA', 'CLRA', 'CLRA', 'CLRA', 'CLRA', 'CLRA',\n       'CLRA', 'KIRA', 'CLRA', 'CLRA', 'KIRA', 'CLRA', 'CLRA', 'KIRA',\n       'CLRA', 'CLRA', 'CLRA', 'CLRA', 'CLRA', 'CLRA', 'CLRA', 'KIRA',\n       'KIRA', 'CLRA', 'KIRA', 'CLRA', 'CLRA', 'KIRA', 'CLRA', 'KIRA',\n       'KIRA', 'CLRA', 'CLRA', 'KIRA', 'CLRA', 'CLRA', 'CLRA', 'CLRA',\n       'KIRA', 'CLRA', 'KIRA', 'CLRA', 'KIRA', 'CLRA', 'CLRA', 'CLRA',\n       'CLRA', 'CLRA', 'CLRA', 'KIRA', 'CLRA', 'CLRA', 'CLRA', 'KIRA',\n       'CLRA', 'CLRA', 'CLRA', 'CLRA', 'KIRA', 'CLRA', 'CLRA', 'CLRA',\n       'CLRA', 'CLRA', 'CLRA', 'KIRA', 'CLRA', 'CLRA', 'CLRA', 'CLRA',\n       'CLRA', 'CLRA', 'KIRA', 'CLRA', 'KIRA', 'KIRA', 'KIRA', 'KIRA',\n       'KIRA', 'CLRA', 'KIRA', 'KIRA', 'KIRA', 'KIRA', 'KIRA', 'KIRA',\n       'KIRA', 'KIRA', 'KIRA', 'KIRA', 'KIRA', 'KIRA', 'KIRA', 'KIRA',\n       'KIRA', 'KIRA', 'KIRA', 'KIRA', 'CLRA', 'CLRA', 'KIRA', 'KIRA',\n       'KIRA', 'KIRA', 'KIRA', 'CLRA', 'KIRA', 'CLRA', 'KIRA', 'KIRA',\n       'KIRA', 'KIRA', 'KIRA', 'KIRA', 'KIRA', 'KIRA', 'KIRA', 'KIRA',\n       'KIRA', 'KIRA', 'KIRA', 'CLRA', 'KIRA', 'KIRA', 'KIRA', 'KIRA',\n       'KIRA', 'KIRA', 'KIRA', 'KIRA', 'KIRA', 'KIRA', 'KIRA', 'KIRA',\n       'CLRA', 'KIRA', 'KIRA', 'KIRA', 'KIRA', 'CLRA', 'KIRA', 'KIRA',\n       'KIRA', 'CLRA', 'KIRA', 'KIRA', 'KIRA', 'KIRA', 'KIRA', 'CLRA',\n       'KIRA', 'CLRA', 'KIRA', 'CLRA', 'KIRA', 'KIRA', 'KIRA'],\n      dtype=object)"
          },
          "metadata": {}
        }
      ],
      "execution_count": 11,
      "metadata": {
        "jupyter": {
          "source_hidden": false,
          "outputs_hidden": false
        },
        "nteract": {
          "transient": {
            "deleting": false
          }
        },
        "gather": {
          "logged": 1644867168329
        }
      }
    },
    {
      "cell_type": "code",
      "source": [
        "from sklearn.metrics import confusion_matrix\n",
        "import numpy as np\n",
        "import itertools\n",
        "\n",
        "cf = confusion_matrix(y_test_df.values, y_pred)\n",
        "plt.imshow(cf, cmap=plt.cm.Blues, interpolation=\"nearest\")\n",
        "plt.colorbar()\n",
        "plt.title(\"Confusion Matrix\")\n",
        "plt.xlabel(\"Predicted\")\n",
        "plt.ylabel(\"Actual\")\n",
        "class_labels = [\"False\", \"True\"]\n",
        "tick_marks = np.arange(len(class_labels))\n",
        "plt.xticks(tick_marks, class_labels)\n",
        "plt.yticks([-0.5, 0, 1, 1.5], [\"\", \"False\", \"True\", \"\"])\n",
        "# plotting text value inside cells\n",
        "thresh = cf.max() / 2.0\n",
        "for i, j in itertools.product(range(cf.shape[0]), range(cf.shape[1])):\n",
        "    plt.text(\n",
        "        j,\n",
        "        i,\n",
        "        format(cf[i, j], \"d\"),\n",
        "        horizontalalignment=\"center\",\n",
        "        color=\"white\" if cf[i, j] > thresh else \"black\",\n",
        "    )\n",
        "plt.show()"
      ],
      "outputs": [
        {
          "output_type": "display_data",
          "data": {
            "text/plain": "<Figure size 432x288 with 2 Axes>",
            "image/png": "[encoded data removed]"
          },
          "metadata": {
            "needs_background": "light"
          }
        }
      ],
      "execution_count": 12,
      "metadata": {
        "jupyter": {
          "source_hidden": false,
          "outputs_hidden": false
        },
        "nteract": {
          "transient": {
            "deleting": false
          }
        },
        "gather": {
          "logged": 1644867168467
        }
      }
    }
  ],
  "metadata": {
    "kernelspec": {
      "name": "python3-azureml",
      "language": "python",
      "display_name": "Python 3.6 - AzureML"
    },
    "language_info": {
      "name": "python",
      "version": "3.6.9",
      "mimetype": "text/x-python",
      "codemirror_mode": {
        "name": "ipython",
        "version": 3
      },
      "pygments_lexer": "ipython3",
      "nbconvert_exporter": "python",
      "file_extension": ".py"
    },
    "kernel_info": {
      "name": "python3-azureml"
    },
    "nteract": {
      "version": "nteract-front-end@1.0.0"
    },
    "microsoft": {
      "host": {
        "AzureML": {
          "notebookHasBeenCompleted": true
        }
      }
    }
  },
  "nbformat": 4,
  "nbformat_minor": 2
}