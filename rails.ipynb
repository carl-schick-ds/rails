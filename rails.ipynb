{
 "cells": [
  {
   "cell_type": "markdown",
   "metadata": {},
   "source": [
    "## Classifying Clapper Rails and King Rails Based on their Kek Calls\n",
    "\n",
    "This project will analyze acoustic markers derived from audio recordings of Clapper Rails and King Rails in an attempt to classify the species.  \n",
    "Sample sounds from these call can be listened to at The Cornell Lab:\n",
    " - Clapper Rail Sounds: https://www.allaboutbirds.org/guide/Clapper_Rail/sounds\n",
    " - King Rail Sounds: https://www.allaboutbirds.org/guide/King_Rail/sounds\n",
    "\n",
    "Original work on this dataset is documented at the Wiley Online Library: https://onlinelibrary.wiley.com/doi/10.1002/ece3.4711  \n",
    "A copy of this research is also included in this git repository as \"Ecology and Evolution - 2018 - Stiffler.pdf\"\n",
    "\n",
    "During this analysis we will review the following questions:\n",
    " - Can we reproduce the basic findings regarding optimal machine learning models for this classification?\n",
    " - Are there improvements that can be made in the outcomes?\n",
    "\n",
    "https://github.com/carl-schick-ds/rails.git"
   ]
  },
  {
   "cell_type": "markdown",
   "metadata": {},
   "source": [
    "***\n",
    "### Setup\n",
    "Import needed libraries.  Unless otherwise noted, all libraries are available in the baseline conda environment."
   ]
  },
  {
   "cell_type": "code",
   "execution_count": 84,
   "metadata": {},
   "outputs": [],
   "source": [
    "import pandas as pd\n",
    "import numpy as np\n",
    "import matplotlib.pyplot as plt\n",
    "import seaborn as sns\n",
    "from IPython.display import display"
   ]
  },
  {
   "cell_type": "markdown",
   "metadata": {},
   "source": [
    "***\n",
    "### Data Collection\n",
    "Data collection was not required for this project since the original dataset is available online in CSV format and is included in this repository as \"KIRACLRA.csv\".  \n",
    "I reached out to the original researches in an attempt to obtain the source audio recordings that were used to produce the audio markers in the dataset, but those recordings are no longer available.  \n",
    "\n",
    "It's feasible that improvements could be made to the classification model by using different audio markers, but this is beyond the scope of this analysis and, in any regard, is not possible due to the unavailability of the source audio recordings."
   ]
  },
  {
   "cell_type": "markdown",
   "metadata": {},
   "source": [
    "### Data Loading and Cleaning"
   ]
  },
  {
   "cell_type": "markdown",
   "metadata": {},
   "source": [
    "#### Load CSVs\n",
    "Load the data from the csv files and run a quick review of the data for validity checks"
   ]
  },
  {
   "cell_type": "code",
   "execution_count": 85,
   "metadata": {},
   "outputs": [
    {
     "data": {
      "text/html": [
       "<div>\n",
       "<style scoped>\n",
       "    .dataframe tbody tr th:only-of-type {\n",
       "        vertical-align: middle;\n",
       "    }\n",
       "\n",
       "    .dataframe tbody tr th {\n",
       "        vertical-align: top;\n",
       "    }\n",
       "\n",
       "    .dataframe thead th {\n",
       "        text-align: right;\n",
       "    }\n",
       "</style>\n",
       "<table border=\"1\" class=\"dataframe\">\n",
       "  <thead>\n",
       "    <tr style=\"text-align: right;\">\n",
       "      <th></th>\n",
       "      <th>Species</th>\n",
       "      <th>Peak Freq (Hz)</th>\n",
       "      <th>Q1 Freq (Hz)</th>\n",
       "      <th>Q3 Freq (Hz)</th>\n",
       "      <th>IQR BW (Hz)</th>\n",
       "      <th>Freq 5% (Hz)</th>\n",
       "      <th>Freq 95% (Hz)</th>\n",
       "      <th>BW 90% (Hz)</th>\n",
       "    </tr>\n",
       "  </thead>\n",
       "  <tbody>\n",
       "    <tr>\n",
       "      <th>0</th>\n",
       "      <td>CLRA</td>\n",
       "      <td>2601.6</td>\n",
       "      <td>2437.5</td>\n",
       "      <td>2976.6</td>\n",
       "      <td>539.1</td>\n",
       "      <td>1851.6</td>\n",
       "      <td>4031.2</td>\n",
       "      <td>2179.7</td>\n",
       "    </tr>\n",
       "    <tr>\n",
       "      <th>1</th>\n",
       "      <td>CLRA</td>\n",
       "      <td>2882.8</td>\n",
       "      <td>2671.9</td>\n",
       "      <td>3234.4</td>\n",
       "      <td>562.5</td>\n",
       "      <td>1992.2</td>\n",
       "      <td>4125.0</td>\n",
       "      <td>2132.8</td>\n",
       "    </tr>\n",
       "    <tr>\n",
       "      <th>2</th>\n",
       "      <td>CLRA</td>\n",
       "      <td>1500.0</td>\n",
       "      <td>1593.8</td>\n",
       "      <td>2953.1</td>\n",
       "      <td>1359.4</td>\n",
       "      <td>1500.0</td>\n",
       "      <td>4804.7</td>\n",
       "      <td>3304.7</td>\n",
       "    </tr>\n",
       "    <tr>\n",
       "      <th>3</th>\n",
       "      <td>CLRA</td>\n",
       "      <td>2507.8</td>\n",
       "      <td>2507.8</td>\n",
       "      <td>3656.2</td>\n",
       "      <td>1148.4</td>\n",
       "      <td>1664.1</td>\n",
       "      <td>4851.6</td>\n",
       "      <td>3187.5</td>\n",
       "    </tr>\n",
       "    <tr>\n",
       "      <th>4</th>\n",
       "      <td>CLRA</td>\n",
       "      <td>2953.1</td>\n",
       "      <td>2765.6</td>\n",
       "      <td>3703.1</td>\n",
       "      <td>937.5</td>\n",
       "      <td>2015.6</td>\n",
       "      <td>4453.1</td>\n",
       "      <td>2437.5</td>\n",
       "    </tr>\n",
       "  </tbody>\n",
       "</table>\n",
       "</div>"
      ],
      "text/plain": [
       "  Species  Peak Freq (Hz)  Q1 Freq (Hz)  Q3 Freq (Hz)  IQR BW (Hz)  \\\n",
       "0    CLRA          2601.6        2437.5        2976.6        539.1   \n",
       "1    CLRA          2882.8        2671.9        3234.4        562.5   \n",
       "2    CLRA          1500.0        1593.8        2953.1       1359.4   \n",
       "3    CLRA          2507.8        2507.8        3656.2       1148.4   \n",
       "4    CLRA          2953.1        2765.6        3703.1        937.5   \n",
       "\n",
       "   Freq 5% (Hz)  Freq 95% (Hz)  BW 90% (Hz)  \n",
       "0        1851.6         4031.2       2179.7  \n",
       "1        1992.2         4125.0       2132.8  \n",
       "2        1500.0         4804.7       3304.7  \n",
       "3        1664.1         4851.6       3187.5  \n",
       "4        2015.6         4453.1       2437.5  "
      ]
     },
     "execution_count": 85,
     "metadata": {},
     "output_type": "execute_result"
    }
   ],
   "source": [
    "rails_df = pd.read_csv('KIRACLRA.csv')\n",
    "rails_df.head()"
   ]
  },
  {
   "cell_type": "code",
   "execution_count": 86,
   "metadata": {},
   "outputs": [
    {
     "name": "stdout",
     "output_type": "stream",
     "text": [
      "<class 'pandas.core.frame.DataFrame'>\n",
      "RangeIndex: 960 entries, 0 to 959\n",
      "Data columns (total 8 columns):\n",
      " #   Column          Non-Null Count  Dtype  \n",
      "---  ------          --------------  -----  \n",
      " 0   Species         960 non-null    object \n",
      " 1   Peak Freq (Hz)  960 non-null    float64\n",
      " 2   Q1 Freq (Hz)    960 non-null    float64\n",
      " 3   Q3 Freq (Hz)    960 non-null    float64\n",
      " 4   IQR BW (Hz)     960 non-null    float64\n",
      " 5   Freq 5% (Hz)    960 non-null    float64\n",
      " 6   Freq 95% (Hz)   960 non-null    float64\n",
      " 7   BW 90% (Hz)     960 non-null    float64\n",
      "dtypes: float64(7), object(1)\n",
      "memory usage: 60.1+ KB\n"
     ]
    }
   ],
   "source": [
    "rails_df.info()"
   ]
  },
  {
   "cell_type": "markdown",
   "metadata": {},
   "source": [
    "***\n",
    "Generate descriptive statistics for both the Clapper Rail and King Rail recordings.  \n",
    "These were compared back to the original research to confirm we are starting from the same place.\n",
    "***"
   ]
  },
  {
   "cell_type": "code",
   "execution_count": 87,
   "metadata": {},
   "outputs": [
    {
     "name": "stdout",
     "output_type": "stream",
     "text": [
      "Clapper Rails Descriptive Statistics\n"
     ]
    },
    {
     "data": {
      "text/html": [
       "<div>\n",
       "<style scoped>\n",
       "    .dataframe tbody tr th:only-of-type {\n",
       "        vertical-align: middle;\n",
       "    }\n",
       "\n",
       "    .dataframe tbody tr th {\n",
       "        vertical-align: top;\n",
       "    }\n",
       "\n",
       "    .dataframe thead th {\n",
       "        text-align: right;\n",
       "    }\n",
       "</style>\n",
       "<table border=\"1\" class=\"dataframe\">\n",
       "  <thead>\n",
       "    <tr style=\"text-align: right;\">\n",
       "      <th></th>\n",
       "      <th>Peak Freq (Hz)</th>\n",
       "      <th>Q1 Freq (Hz)</th>\n",
       "      <th>Q3 Freq (Hz)</th>\n",
       "      <th>IQR BW (Hz)</th>\n",
       "      <th>Freq 5% (Hz)</th>\n",
       "      <th>Freq 95% (Hz)</th>\n",
       "      <th>BW 90% (Hz)</th>\n",
       "    </tr>\n",
       "  </thead>\n",
       "  <tbody>\n",
       "    <tr>\n",
       "      <th>count</th>\n",
       "      <td>480</td>\n",
       "      <td>480</td>\n",
       "      <td>480</td>\n",
       "      <td>480</td>\n",
       "      <td>480</td>\n",
       "      <td>480</td>\n",
       "      <td>480</td>\n",
       "    </tr>\n",
       "    <tr>\n",
       "      <th>mean</th>\n",
       "      <td>2824</td>\n",
       "      <td>2482</td>\n",
       "      <td>3284</td>\n",
       "      <td>801</td>\n",
       "      <td>1979</td>\n",
       "      <td>4175</td>\n",
       "      <td>2196</td>\n",
       "    </tr>\n",
       "    <tr>\n",
       "      <th>std</th>\n",
       "      <td>520</td>\n",
       "      <td>327</td>\n",
       "      <td>403</td>\n",
       "      <td>392</td>\n",
       "      <td>273</td>\n",
       "      <td>563</td>\n",
       "      <td>639</td>\n",
       "    </tr>\n",
       "    <tr>\n",
       "      <th>min</th>\n",
       "      <td>1500</td>\n",
       "      <td>1594</td>\n",
       "      <td>2484</td>\n",
       "      <td>70</td>\n",
       "      <td>1500</td>\n",
       "      <td>2883</td>\n",
       "      <td>773</td>\n",
       "    </tr>\n",
       "    <tr>\n",
       "      <th>25%</th>\n",
       "      <td>2578</td>\n",
       "      <td>2291</td>\n",
       "      <td>2930</td>\n",
       "      <td>516</td>\n",
       "      <td>1805</td>\n",
       "      <td>3744</td>\n",
       "      <td>1734</td>\n",
       "    </tr>\n",
       "    <tr>\n",
       "      <th>50%</th>\n",
       "      <td>2742</td>\n",
       "      <td>2508</td>\n",
       "      <td>3258</td>\n",
       "      <td>773</td>\n",
       "      <td>1922</td>\n",
       "      <td>4312</td>\n",
       "      <td>2250</td>\n",
       "    </tr>\n",
       "    <tr>\n",
       "      <th>75%</th>\n",
       "      <td>3053</td>\n",
       "      <td>2648</td>\n",
       "      <td>3498</td>\n",
       "      <td>1008</td>\n",
       "      <td>2180</td>\n",
       "      <td>4664</td>\n",
       "      <td>2771</td>\n",
       "    </tr>\n",
       "    <tr>\n",
       "      <th>max</th>\n",
       "      <td>4852</td>\n",
       "      <td>3539</td>\n",
       "      <td>4664</td>\n",
       "      <td>2344</td>\n",
       "      <td>2812</td>\n",
       "      <td>4969</td>\n",
       "      <td>3398</td>\n",
       "    </tr>\n",
       "  </tbody>\n",
       "</table>\n",
       "</div>"
      ],
      "text/plain": [
       "       Peak Freq (Hz)  Q1 Freq (Hz)  Q3 Freq (Hz)  IQR BW (Hz)  Freq 5% (Hz)  \\\n",
       "count             480           480           480          480           480   \n",
       "mean             2824          2482          3284          801          1979   \n",
       "std               520           327           403          392           273   \n",
       "min              1500          1594          2484           70          1500   \n",
       "25%              2578          2291          2930          516          1805   \n",
       "50%              2742          2508          3258          773          1922   \n",
       "75%              3053          2648          3498         1008          2180   \n",
       "max              4852          3539          4664         2344          2812   \n",
       "\n",
       "       Freq 95% (Hz)  BW 90% (Hz)  \n",
       "count            480          480  \n",
       "mean            4175         2196  \n",
       "std              563          639  \n",
       "min             2883          773  \n",
       "25%             3744         1734  \n",
       "50%             4312         2250  \n",
       "75%             4664         2771  \n",
       "max             4969         3398  "
      ]
     },
     "metadata": {},
     "output_type": "display_data"
    },
    {
     "name": "stdout",
     "output_type": "stream",
     "text": [
      "King Rails Descriptive Statistics\n"
     ]
    },
    {
     "data": {
      "text/html": [
       "<div>\n",
       "<style scoped>\n",
       "    .dataframe tbody tr th:only-of-type {\n",
       "        vertical-align: middle;\n",
       "    }\n",
       "\n",
       "    .dataframe tbody tr th {\n",
       "        vertical-align: top;\n",
       "    }\n",
       "\n",
       "    .dataframe thead th {\n",
       "        text-align: right;\n",
       "    }\n",
       "</style>\n",
       "<table border=\"1\" class=\"dataframe\">\n",
       "  <thead>\n",
       "    <tr style=\"text-align: right;\">\n",
       "      <th></th>\n",
       "      <th>Peak Freq (Hz)</th>\n",
       "      <th>Q1 Freq (Hz)</th>\n",
       "      <th>Q3 Freq (Hz)</th>\n",
       "      <th>IQR BW (Hz)</th>\n",
       "      <th>Freq 5% (Hz)</th>\n",
       "      <th>Freq 95% (Hz)</th>\n",
       "      <th>BW 90% (Hz)</th>\n",
       "    </tr>\n",
       "  </thead>\n",
       "  <tbody>\n",
       "    <tr>\n",
       "      <th>count</th>\n",
       "      <td>480</td>\n",
       "      <td>480</td>\n",
       "      <td>480</td>\n",
       "      <td>480</td>\n",
       "      <td>480</td>\n",
       "      <td>480</td>\n",
       "      <td>480</td>\n",
       "    </tr>\n",
       "    <tr>\n",
       "      <th>mean</th>\n",
       "      <td>2808</td>\n",
       "      <td>2556</td>\n",
       "      <td>3254</td>\n",
       "      <td>698</td>\n",
       "      <td>2096</td>\n",
       "      <td>3997</td>\n",
       "      <td>1901</td>\n",
       "    </tr>\n",
       "    <tr>\n",
       "      <th>std</th>\n",
       "      <td>476</td>\n",
       "      <td>309</td>\n",
       "      <td>530</td>\n",
       "      <td>467</td>\n",
       "      <td>333</td>\n",
       "      <td>587</td>\n",
       "      <td>683</td>\n",
       "    </tr>\n",
       "    <tr>\n",
       "      <th>min</th>\n",
       "      <td>1550</td>\n",
       "      <td>1572</td>\n",
       "      <td>2304</td>\n",
       "      <td>65</td>\n",
       "      <td>1507</td>\n",
       "      <td>2692</td>\n",
       "      <td>581</td>\n",
       "    </tr>\n",
       "    <tr>\n",
       "      <th>25%</th>\n",
       "      <td>2541</td>\n",
       "      <td>2433</td>\n",
       "      <td>2885</td>\n",
       "      <td>388</td>\n",
       "      <td>1809</td>\n",
       "      <td>3467</td>\n",
       "      <td>1351</td>\n",
       "    </tr>\n",
       "    <tr>\n",
       "      <th>50%</th>\n",
       "      <td>2756</td>\n",
       "      <td>2562</td>\n",
       "      <td>3112</td>\n",
       "      <td>581</td>\n",
       "      <td>2132</td>\n",
       "      <td>4059</td>\n",
       "      <td>1873</td>\n",
       "    </tr>\n",
       "    <tr>\n",
       "      <th>75%</th>\n",
       "      <td>2993</td>\n",
       "      <td>2735</td>\n",
       "      <td>3488</td>\n",
       "      <td>861</td>\n",
       "      <td>2347</td>\n",
       "      <td>4457</td>\n",
       "      <td>2455</td>\n",
       "    </tr>\n",
       "    <tr>\n",
       "      <th>max</th>\n",
       "      <td>4802</td>\n",
       "      <td>3316</td>\n",
       "      <td>4802</td>\n",
       "      <td>2778</td>\n",
       "      <td>3036</td>\n",
       "      <td>4974</td>\n",
       "      <td>3424</td>\n",
       "    </tr>\n",
       "  </tbody>\n",
       "</table>\n",
       "</div>"
      ],
      "text/plain": [
       "       Peak Freq (Hz)  Q1 Freq (Hz)  Q3 Freq (Hz)  IQR BW (Hz)  Freq 5% (Hz)  \\\n",
       "count             480           480           480          480           480   \n",
       "mean             2808          2556          3254          698          2096   \n",
       "std               476           309           530          467           333   \n",
       "min              1550          1572          2304           65          1507   \n",
       "25%              2541          2433          2885          388          1809   \n",
       "50%              2756          2562          3112          581          2132   \n",
       "75%              2993          2735          3488          861          2347   \n",
       "max              4802          3316          4802         2778          3036   \n",
       "\n",
       "       Freq 95% (Hz)  BW 90% (Hz)  \n",
       "count            480          480  \n",
       "mean            3997         1901  \n",
       "std              587          683  \n",
       "min             2692          581  \n",
       "25%             3467         1351  \n",
       "50%             4059         1873  \n",
       "75%             4457         2455  \n",
       "max             4974         3424  "
      ]
     },
     "metadata": {},
     "output_type": "display_data"
    }
   ],
   "source": [
    "print(\"Clapper Rails Descriptive Statistics\")\n",
    "display(rails_df[rails_df['Species'] == 'CLRA'].describe().round(decimals=0).astype(int))\n",
    "print(\"King Rails Descriptive Statistics\")\n",
    "display(rails_df[rails_df['Species'] == 'KIRA'].describe().round(decimals=0).astype(int))"
   ]
  },
  {
   "cell_type": "markdown",
   "metadata": {},
   "source": [
    "#### Clean the Data"
   ]
  },
  {
   "cell_type": "markdown",
   "metadata": {},
   "source": [
    "Confirm the target column, Species, review the counts, rename the values, and reset the column as a categorical type."
   ]
  },
  {
   "cell_type": "code",
   "execution_count": 88,
   "metadata": {},
   "outputs": [
    {
     "name": "stdout",
     "output_type": "stream",
     "text": [
      "CLRA    480\n",
      "KIRA    480\n",
      "Name: Species, dtype: int64\n",
      "Clapper    480\n",
      "King       480\n",
      "Name: Species, dtype: int64\n",
      "\n",
      "<class 'pandas.core.frame.DataFrame'>\n",
      "RangeIndex: 960 entries, 0 to 959\n",
      "Data columns (total 8 columns):\n",
      " #   Column          Non-Null Count  Dtype   \n",
      "---  ------          --------------  -----   \n",
      " 0   Species         960 non-null    category\n",
      " 1   Peak Freq (Hz)  960 non-null    float64 \n",
      " 2   Q1 Freq (Hz)    960 non-null    float64 \n",
      " 3   Q3 Freq (Hz)    960 non-null    float64 \n",
      " 4   IQR BW (Hz)     960 non-null    float64 \n",
      " 5   Freq 5% (Hz)    960 non-null    float64 \n",
      " 6   Freq 95% (Hz)   960 non-null    float64 \n",
      " 7   BW 90% (Hz)     960 non-null    float64 \n",
      "dtypes: category(1), float64(7)\n",
      "memory usage: 53.7 KB\n"
     ]
    },
    {
     "data": {
      "text/plain": [
       "None"
      ]
     },
     "metadata": {},
     "output_type": "display_data"
    }
   ],
   "source": [
    "print(rails_df['Species'].value_counts())\n",
    "rails_df['Species'] = rails_df['Species'].apply(lambda x: 'Clapper' if x == 'CLRA' else 'King')\n",
    "rails_df['Species'] = rails_df['Species'].astype('category')\n",
    "print(rails_df['Species'].value_counts())\n",
    "print()\n",
    "display(rails_df.info())"
   ]
  },
  {
   "cell_type": "markdown",
   "metadata": {},
   "source": [
    "***\n",
    "Review the correlation of the parameters to determine if any parameters can be dropped in order to simply the models.  \n",
    "Generate both a correlation table and a heatmap.\n",
    "***"
   ]
  },
  {
   "cell_type": "code",
   "execution_count": 89,
   "metadata": {},
   "outputs": [
    {
     "data": {
      "text/html": [
       "<div>\n",
       "<style scoped>\n",
       "    .dataframe tbody tr th:only-of-type {\n",
       "        vertical-align: middle;\n",
       "    }\n",
       "\n",
       "    .dataframe tbody tr th {\n",
       "        vertical-align: top;\n",
       "    }\n",
       "\n",
       "    .dataframe thead th {\n",
       "        text-align: right;\n",
       "    }\n",
       "</style>\n",
       "<table border=\"1\" class=\"dataframe\">\n",
       "  <thead>\n",
       "    <tr style=\"text-align: right;\">\n",
       "      <th></th>\n",
       "      <th>Peak Freq (Hz)</th>\n",
       "      <th>Q1 Freq (Hz)</th>\n",
       "      <th>Q3 Freq (Hz)</th>\n",
       "      <th>IQR BW (Hz)</th>\n",
       "      <th>Freq 5% (Hz)</th>\n",
       "      <th>Freq 95% (Hz)</th>\n",
       "      <th>BW 90% (Hz)</th>\n",
       "    </tr>\n",
       "  </thead>\n",
       "  <tbody>\n",
       "    <tr>\n",
       "      <th>Peak Freq (Hz)</th>\n",
       "      <td>1.000000</td>\n",
       "      <td>0.564438</td>\n",
       "      <td>0.510591</td>\n",
       "      <td>0.138000</td>\n",
       "      <td>0.253712</td>\n",
       "      <td>0.206635</td>\n",
       "      <td>0.061446</td>\n",
       "    </tr>\n",
       "    <tr>\n",
       "      <th>Q1 Freq (Hz)</th>\n",
       "      <td>0.564438</td>\n",
       "      <td>1.000000</td>\n",
       "      <td>0.450016</td>\n",
       "      <td>-0.248563</td>\n",
       "      <td>0.630123</td>\n",
       "      <td>0.183953</td>\n",
       "      <td>-0.130135</td>\n",
       "    </tr>\n",
       "    <tr>\n",
       "      <th>Q3 Freq (Hz)</th>\n",
       "      <td>0.510591</td>\n",
       "      <td>0.450016</td>\n",
       "      <td>1.000000</td>\n",
       "      <td>0.753137</td>\n",
       "      <td>0.135469</td>\n",
       "      <td>0.593003</td>\n",
       "      <td>0.447317</td>\n",
       "    </tr>\n",
       "    <tr>\n",
       "      <th>IQR BW (Hz)</th>\n",
       "      <td>0.138000</td>\n",
       "      <td>-0.248563</td>\n",
       "      <td>0.753137</td>\n",
       "      <td>1.000000</td>\n",
       "      <td>-0.317256</td>\n",
       "      <td>0.507690</td>\n",
       "      <td>0.581049</td>\n",
       "    </tr>\n",
       "    <tr>\n",
       "      <th>Freq 5% (Hz)</th>\n",
       "      <td>0.253712</td>\n",
       "      <td>0.630123</td>\n",
       "      <td>0.135469</td>\n",
       "      <td>-0.317256</td>\n",
       "      <td>1.000000</td>\n",
       "      <td>-0.068072</td>\n",
       "      <td>-0.515680</td>\n",
       "    </tr>\n",
       "    <tr>\n",
       "      <th>Freq 95% (Hz)</th>\n",
       "      <td>0.206635</td>\n",
       "      <td>0.183953</td>\n",
       "      <td>0.593003</td>\n",
       "      <td>0.507690</td>\n",
       "      <td>-0.068072</td>\n",
       "      <td>1.000000</td>\n",
       "      <td>0.889897</td>\n",
       "    </tr>\n",
       "    <tr>\n",
       "      <th>BW 90% (Hz)</th>\n",
       "      <td>0.061446</td>\n",
       "      <td>-0.130135</td>\n",
       "      <td>0.447317</td>\n",
       "      <td>0.581049</td>\n",
       "      <td>-0.515680</td>\n",
       "      <td>0.889897</td>\n",
       "      <td>1.000000</td>\n",
       "    </tr>\n",
       "  </tbody>\n",
       "</table>\n",
       "</div>"
      ],
      "text/plain": [
       "                Peak Freq (Hz)  Q1 Freq (Hz)  Q3 Freq (Hz)  IQR BW (Hz)  \\\n",
       "Peak Freq (Hz)        1.000000      0.564438      0.510591     0.138000   \n",
       "Q1 Freq (Hz)          0.564438      1.000000      0.450016    -0.248563   \n",
       "Q3 Freq (Hz)          0.510591      0.450016      1.000000     0.753137   \n",
       "IQR BW (Hz)           0.138000     -0.248563      0.753137     1.000000   \n",
       "Freq 5% (Hz)          0.253712      0.630123      0.135469    -0.317256   \n",
       "Freq 95% (Hz)         0.206635      0.183953      0.593003     0.507690   \n",
       "BW 90% (Hz)           0.061446     -0.130135      0.447317     0.581049   \n",
       "\n",
       "                Freq 5% (Hz)  Freq 95% (Hz)  BW 90% (Hz)  \n",
       "Peak Freq (Hz)      0.253712       0.206635     0.061446  \n",
       "Q1 Freq (Hz)        0.630123       0.183953    -0.130135  \n",
       "Q3 Freq (Hz)        0.135469       0.593003     0.447317  \n",
       "IQR BW (Hz)        -0.317256       0.507690     0.581049  \n",
       "Freq 5% (Hz)        1.000000      -0.068072    -0.515680  \n",
       "Freq 95% (Hz)      -0.068072       1.000000     0.889897  \n",
       "BW 90% (Hz)        -0.515680       0.889897     1.000000  "
      ]
     },
     "metadata": {},
     "output_type": "display_data"
    }
   ],
   "source": [
    "corr = rails_df.corr()\n",
    "display(corr)"
   ]
  },
  {
   "cell_type": "code",
   "execution_count": 90,
   "metadata": {},
   "outputs": [
    {
     "data": {
      "image/png": "[encoded data removed]",
      "text/plain": [
       "<Figure size 432x288 with 2 Axes>"
      ]
     },
     "metadata": {},
     "output_type": "display_data"
    }
   ],
   "source": [
    "# Set the self-correlation cells (the diaganols) to zero to minimize their prominence during visual review\n",
    "np.fill_diagonal(corr.values, 0)\n",
    "\n",
    "# Set the palette to 'coolwarm' and the min/max to the extreme ends of valid correlation values\n",
    "colormap = sns.color_palette(\"coolwarm\")\n",
    "vmin, vmax = (-1, 1)\n",
    "\n",
    "# Display the heatmap\n",
    "sns.heatmap(corr, center=(vmin + vmax) / 2, vmin=vmin, vmax=vmax, cmap=colormap)\n",
    "'';"
   ]
  },
  {
   "cell_type": "markdown",
   "metadata": {},
   "source": [
    "Both the correlation table and the heatmap indicate a strong correlation between the Bandwidth (BW) markers and one of the Frequency ranges.  \n",
    "Specifically, `IGR BW (Hz)` is highly correlated with `Q3 Freq Hz` (*r* $\\approx$ .75) and `BW 90% (Hz)` is highly correlated with `Freq 95% (Hz)` (*r* $\\approx$ .89)  \n",
    "\n",
    "<mark>Is this next statement true?  I ran most of the models with and without the Bandwidth columns and the results were similar or worse when they were included.  \n",
    "Are there considerations other than the *r* value that I should be reviewing for the claims below?</mark>  \n",
    "\n",
    "Parameters with correlations above .70 - .75 will have a negligible impact on the model results since their values are appropriately accounted for in another parameter.  At times, their inclusion could actually produce worse outcomes since they can add unnecessary noise to the model generation.  For this reason, we will drop both of the Bandwidth (BW) markers from the dataset.  "
   ]
  },
  {
   "cell_type": "markdown",
   "metadata": {},
   "source": [
    "***\n",
    "Drop the Bandwidth (BW) columns due to their high correlation with other parameters.\n",
    "***"
   ]
  },
  {
   "cell_type": "code",
   "execution_count": 91,
   "metadata": {},
   "outputs": [
    {
     "data": {
      "text/html": [
       "<div>\n",
       "<style scoped>\n",
       "    .dataframe tbody tr th:only-of-type {\n",
       "        vertical-align: middle;\n",
       "    }\n",
       "\n",
       "    .dataframe tbody tr th {\n",
       "        vertical-align: top;\n",
       "    }\n",
       "\n",
       "    .dataframe thead th {\n",
       "        text-align: right;\n",
       "    }\n",
       "</style>\n",
       "<table border=\"1\" class=\"dataframe\">\n",
       "  <thead>\n",
       "    <tr style=\"text-align: right;\">\n",
       "      <th></th>\n",
       "      <th>Species</th>\n",
       "      <th>Peak Freq (Hz)</th>\n",
       "      <th>Q1 Freq (Hz)</th>\n",
       "      <th>Q3 Freq (Hz)</th>\n",
       "      <th>Freq 5% (Hz)</th>\n",
       "      <th>Freq 95% (Hz)</th>\n",
       "    </tr>\n",
       "  </thead>\n",
       "  <tbody>\n",
       "    <tr>\n",
       "      <th>0</th>\n",
       "      <td>Clapper</td>\n",
       "      <td>2601.6</td>\n",
       "      <td>2437.5</td>\n",
       "      <td>2976.6</td>\n",
       "      <td>1851.6</td>\n",
       "      <td>4031.2</td>\n",
       "    </tr>\n",
       "    <tr>\n",
       "      <th>1</th>\n",
       "      <td>Clapper</td>\n",
       "      <td>2882.8</td>\n",
       "      <td>2671.9</td>\n",
       "      <td>3234.4</td>\n",
       "      <td>1992.2</td>\n",
       "      <td>4125.0</td>\n",
       "    </tr>\n",
       "    <tr>\n",
       "      <th>2</th>\n",
       "      <td>Clapper</td>\n",
       "      <td>1500.0</td>\n",
       "      <td>1593.8</td>\n",
       "      <td>2953.1</td>\n",
       "      <td>1500.0</td>\n",
       "      <td>4804.7</td>\n",
       "    </tr>\n",
       "    <tr>\n",
       "      <th>3</th>\n",
       "      <td>Clapper</td>\n",
       "      <td>2507.8</td>\n",
       "      <td>2507.8</td>\n",
       "      <td>3656.2</td>\n",
       "      <td>1664.1</td>\n",
       "      <td>4851.6</td>\n",
       "    </tr>\n",
       "    <tr>\n",
       "      <th>4</th>\n",
       "      <td>Clapper</td>\n",
       "      <td>2953.1</td>\n",
       "      <td>2765.6</td>\n",
       "      <td>3703.1</td>\n",
       "      <td>2015.6</td>\n",
       "      <td>4453.1</td>\n",
       "    </tr>\n",
       "  </tbody>\n",
       "</table>\n",
       "</div>"
      ],
      "text/plain": [
       "   Species  Peak Freq (Hz)  Q1 Freq (Hz)  Q3 Freq (Hz)  Freq 5% (Hz)  \\\n",
       "0  Clapper          2601.6        2437.5        2976.6        1851.6   \n",
       "1  Clapper          2882.8        2671.9        3234.4        1992.2   \n",
       "2  Clapper          1500.0        1593.8        2953.1        1500.0   \n",
       "3  Clapper          2507.8        2507.8        3656.2        1664.1   \n",
       "4  Clapper          2953.1        2765.6        3703.1        2015.6   \n",
       "\n",
       "   Freq 95% (Hz)  \n",
       "0         4031.2  \n",
       "1         4125.0  \n",
       "2         4804.7  \n",
       "3         4851.6  \n",
       "4         4453.1  "
      ]
     },
     "metadata": {},
     "output_type": "display_data"
    }
   ],
   "source": [
    "rails_df.drop(['IQR BW (Hz)', 'BW 90% (Hz)'], axis=1, inplace=True)\n",
    "display(rails_df.head())"
   ]
  },
  {
   "cell_type": "markdown",
   "metadata": {},
   "source": [
    "### Data Exploration"
   ]
  },
  {
   "cell_type": "markdown",
   "metadata": {},
   "source": [
    "#### Visualize Parameter Realtionships with Species Classification\n",
    "The relationship of each parameter with the Species classification is visualized in a variety of formats: historgrams, boxplots, violinplots, and scatterplots."
   ]
  },
  {
   "cell_type": "code",
   "execution_count": 92,
   "metadata": {},
   "outputs": [
    {
     "data": {
      "image/png": "[encoded data removed]",
      "text/plain": [
       "<Figure size 1800x360 with 5 Axes>"
      ]
     },
     "metadata": {},
     "output_type": "display_data"
    }
   ],
   "source": [
    "fig, axes = plt.subplots(1,5, figsize=(25,5))\n",
    "sns.set_style('whitegrid')\n",
    "sns.histplot(data=rails_df, x='Peak Freq (Hz)', bins = 30, hue='Species', ax=axes[0])\n",
    "sns.histplot(data=rails_df, x='Q1 Freq (Hz)', bins = 30, hue='Species', ax=axes[1])\n",
    "sns.histplot(data=rails_df, x='Q3 Freq (Hz)', bins = 30, hue='Species', ax=axes[2])\n",
    "sns.histplot(data=rails_df, x='Freq 5% (Hz)', bins = 30, hue='Species', ax=axes[3])\n",
    "sns.histplot(data=rails_df, x='Freq 95% (Hz)', bins = 30, hue='Species', ax=axes[4])\n",
    "'';"
   ]
  },
  {
   "cell_type": "code",
   "execution_count": 93,
   "metadata": {},
   "outputs": [
    {
     "data": {
      "text/plain": [
       "<AxesSubplot:xlabel='Freq 95% (Hz)', ylabel='Species'>"
      ]
     },
     "execution_count": 93,
     "metadata": {},
     "output_type": "execute_result"
    },
    {
     "data": {
      "image/png": "[encoded data removed]",
      "text/plain": [
       "<Figure size 1800x360 with 5 Axes>"
      ]
     },
     "metadata": {},
     "output_type": "display_data"
    }
   ],
   "source": [
    "fig, axes = plt.subplots(1,5, figsize=(25,5))\n",
    "sns.set_style('whitegrid')\n",
    "sns.boxplot(data=rails_df, x='Peak Freq (Hz)', y='Species', ax=axes[0])\n",
    "sns.boxplot(data=rails_df, x='Q1 Freq (Hz)', y='Species', ax=axes[1])\n",
    "sns.boxplot(data=rails_df, x='Q3 Freq (Hz)', y='Species', ax=axes[2])\n",
    "sns.boxplot(data=rails_df, x='Freq 5% (Hz)', y='Species', ax=axes[3])\n",
    "sns.boxplot(data=rails_df, x='Freq 95% (Hz)', y='Species', ax=axes[4])"
   ]
  },
  {
   "cell_type": "code",
   "execution_count": 105,
   "metadata": {},
   "outputs": [
    {
     "data": {
      "image/png": "[encoded data removed]",
      "text/plain": [
       "<Figure size 1800x360 with 5 Axes>"
      ]
     },
     "metadata": {},
     "output_type": "display_data"
    }
   ],
   "source": [
    "fig, axes = plt.subplots(1,5, figsize=(25,5))\n",
    "sns.set_style('whitegrid')\n",
    "sns.violinplot(data=rails_df, x='Peak Freq (Hz)', y='Species', hue='Species', legend=False, ax=axes[0])\n",
    "sns.violinplot(data=rails_df, x='Q1 Freq (Hz)', y='Species', hue='Species', legend=False, ax=axes[1])\n",
    "sns.violinplot(data=rails_df, x='Q3 Freq (Hz)', y='Species', hue='Species', legend=False, ax=axes[2])\n",
    "sns.violinplot(data=rails_df, x='Freq 5% (Hz)', y='Species', hue='Species', legend=False, ax=axes[3])\n",
    "sns.violinplot(data=rails_df, x='Freq 95% (Hz)', y='Species', hue='Species', legend=False, ax=axes[4])\n",
    "\n",
    "for i in range(len(axes)):\n",
    "    axes[i].legend().remove()\n",
    "'';"
   ]
  },
  {
   "cell_type": "code",
   "execution_count": 99,
   "metadata": {},
   "outputs": [
    {
     "data": {
      "image/png": "[encoded data removed]",
      "text/plain": [
       "<Figure size 1800x360 with 5 Axes>"
      ]
     },
     "metadata": {},
     "output_type": "display_data"
    }
   ],
   "source": [
    "fig, axes = plt.subplots(1,5, figsize=(25,5))\n",
    "sns.set_style('whitegrid')\n",
    "sns.scatterplot(data=rails_df, x='Peak Freq (Hz)', y='Species', hue='Species', legend=False, ax=axes[0])\n",
    "sns.scatterplot(data=rails_df, x='Q1 Freq (Hz)', y='Species', hue='Species', legend=False, ax=axes[1])\n",
    "sns.scatterplot(data=rails_df, x='Q3 Freq (Hz)', y='Species', hue='Species', legend=False, ax=axes[2])\n",
    "sns.scatterplot(data=rails_df, x='Freq 5% (Hz)', y='Species', hue='Species', legend=False, ax=axes[3])\n",
    "sns.scatterplot(data=rails_df, x='Freq 95% (Hz)', y='Species', hue='Species', legend=False, ax=axes[4])\n",
    "'';"
   ]
  },
  {
   "cell_type": "markdown",
   "metadata": {},
   "source": [
    "<mark>\n",
    "I could use some help interpreting the above visualizations.  At a high level, it looks like there is a lot of overlap between the data values and the Species class, which would make modeling difficult.  The histograms show some bright spots, where some parameters (Freq 5% and Freq 95% in particular) clearly have values with higher occurrences in one species vs. another.  \n",
    "<br>\n",
    "<br>\n",
    "But in general, how should I be interpreting this.  Does it give any indication of which model type, or which model in particular, would be best?  I'm not sure what the clear takeaways are, or whether I should be exploring anything different in order to guide model selection.\n",
    "</mark>  "
   ]
  },
  {
   "cell_type": "code",
   "execution_count": 27,
   "metadata": {},
   "outputs": [],
   "source": [
    "rails_features = rails_df.drop('Species', axis=1)\n",
    "rails_target = rails_df['Species']"
   ]
  },
  {
   "cell_type": "code",
   "execution_count": 28,
   "metadata": {},
   "outputs": [],
   "source": [
    "from sklearn.preprocessing import StandardScaler\n",
    "scaler = StandardScaler()\n",
    "rails_scaled_features = pd.DataFrame(scaler.fit_transform(rails_df.drop('Species', axis=1)), columns=rails_features.columns)\n"
   ]
  },
  {
   "cell_type": "code",
   "execution_count": 29,
   "metadata": {},
   "outputs": [
    {
     "data": {
      "text/plain": [
       "0      CLRA\n",
       "1      CLRA\n",
       "2      CLRA\n",
       "3      CLRA\n",
       "4      CLRA\n",
       "       ... \n",
       "955    KIRA\n",
       "956    KIRA\n",
       "957    KIRA\n",
       "958    KIRA\n",
       "959    KIRA\n",
       "Name: Species, Length: 960, dtype: category\n",
       "Categories (2, object): ['CLRA', 'KIRA']"
      ]
     },
     "metadata": {},
     "output_type": "display_data"
    },
    {
     "data": {
      "text/html": [
       "<div>\n",
       "<style scoped>\n",
       "    .dataframe tbody tr th:only-of-type {\n",
       "        vertical-align: middle;\n",
       "    }\n",
       "\n",
       "    .dataframe tbody tr th {\n",
       "        vertical-align: top;\n",
       "    }\n",
       "\n",
       "    .dataframe thead th {\n",
       "        text-align: right;\n",
       "    }\n",
       "</style>\n",
       "<table border=\"1\" class=\"dataframe\">\n",
       "  <thead>\n",
       "    <tr style=\"text-align: right;\">\n",
       "      <th></th>\n",
       "      <th>Peak Freq (Hz)</th>\n",
       "      <th>Q1 Freq (Hz)</th>\n",
       "      <th>Q3 Freq (Hz)</th>\n",
       "      <th>Freq 5% (Hz)</th>\n",
       "      <th>Freq 95% (Hz)</th>\n",
       "    </tr>\n",
       "  </thead>\n",
       "  <tbody>\n",
       "    <tr>\n",
       "      <th>0</th>\n",
       "      <td>2601.6</td>\n",
       "      <td>2437.5</td>\n",
       "      <td>2976.6</td>\n",
       "      <td>1851.6</td>\n",
       "      <td>4031.2</td>\n",
       "    </tr>\n",
       "    <tr>\n",
       "      <th>1</th>\n",
       "      <td>2882.8</td>\n",
       "      <td>2671.9</td>\n",
       "      <td>3234.4</td>\n",
       "      <td>1992.2</td>\n",
       "      <td>4125.0</td>\n",
       "    </tr>\n",
       "    <tr>\n",
       "      <th>2</th>\n",
       "      <td>1500.0</td>\n",
       "      <td>1593.8</td>\n",
       "      <td>2953.1</td>\n",
       "      <td>1500.0</td>\n",
       "      <td>4804.7</td>\n",
       "    </tr>\n",
       "    <tr>\n",
       "      <th>3</th>\n",
       "      <td>2507.8</td>\n",
       "      <td>2507.8</td>\n",
       "      <td>3656.2</td>\n",
       "      <td>1664.1</td>\n",
       "      <td>4851.6</td>\n",
       "    </tr>\n",
       "    <tr>\n",
       "      <th>4</th>\n",
       "      <td>2953.1</td>\n",
       "      <td>2765.6</td>\n",
       "      <td>3703.1</td>\n",
       "      <td>2015.6</td>\n",
       "      <td>4453.1</td>\n",
       "    </tr>\n",
       "    <tr>\n",
       "      <th>...</th>\n",
       "      <td>...</td>\n",
       "      <td>...</td>\n",
       "      <td>...</td>\n",
       "      <td>...</td>\n",
       "      <td>...</td>\n",
       "    </tr>\n",
       "    <tr>\n",
       "      <th>955</th>\n",
       "      <td>2842.4</td>\n",
       "      <td>2713.2</td>\n",
       "      <td>3617.6</td>\n",
       "      <td>1938.0</td>\n",
       "      <td>4780.4</td>\n",
       "    </tr>\n",
       "    <tr>\n",
       "      <th>956</th>\n",
       "      <td>2519.4</td>\n",
       "      <td>2540.9</td>\n",
       "      <td>4069.8</td>\n",
       "      <td>1830.3</td>\n",
       "      <td>4242.0</td>\n",
       "    </tr>\n",
       "    <tr>\n",
       "      <th>957</th>\n",
       "      <td>4543.5</td>\n",
       "      <td>2950.0</td>\n",
       "      <td>4522.0</td>\n",
       "      <td>2217.9</td>\n",
       "      <td>4823.4</td>\n",
       "    </tr>\n",
       "    <tr>\n",
       "      <th>958</th>\n",
       "      <td>2540.9</td>\n",
       "      <td>2519.4</td>\n",
       "      <td>2734.7</td>\n",
       "      <td>2433.3</td>\n",
       "      <td>3273.0</td>\n",
       "    </tr>\n",
       "    <tr>\n",
       "      <th>959</th>\n",
       "      <td>2928.5</td>\n",
       "      <td>2562.5</td>\n",
       "      <td>3143.8</td>\n",
       "      <td>2131.8</td>\n",
       "      <td>4005.2</td>\n",
       "    </tr>\n",
       "  </tbody>\n",
       "</table>\n",
       "<p>960 rows × 5 columns</p>\n",
       "</div>"
      ],
      "text/plain": [
       "     Peak Freq (Hz)  Q1 Freq (Hz)  Q3 Freq (Hz)  Freq 5% (Hz)  Freq 95% (Hz)\n",
       "0            2601.6        2437.5        2976.6        1851.6         4031.2\n",
       "1            2882.8        2671.9        3234.4        1992.2         4125.0\n",
       "2            1500.0        1593.8        2953.1        1500.0         4804.7\n",
       "3            2507.8        2507.8        3656.2        1664.1         4851.6\n",
       "4            2953.1        2765.6        3703.1        2015.6         4453.1\n",
       "..              ...           ...           ...           ...            ...\n",
       "955          2842.4        2713.2        3617.6        1938.0         4780.4\n",
       "956          2519.4        2540.9        4069.8        1830.3         4242.0\n",
       "957          4543.5        2950.0        4522.0        2217.9         4823.4\n",
       "958          2540.9        2519.4        2734.7        2433.3         3273.0\n",
       "959          2928.5        2562.5        3143.8        2131.8         4005.2\n",
       "\n",
       "[960 rows x 5 columns]"
      ]
     },
     "metadata": {},
     "output_type": "display_data"
    },
    {
     "data": {
      "text/html": [
       "<div>\n",
       "<style scoped>\n",
       "    .dataframe tbody tr th:only-of-type {\n",
       "        vertical-align: middle;\n",
       "    }\n",
       "\n",
       "    .dataframe tbody tr th {\n",
       "        vertical-align: top;\n",
       "    }\n",
       "\n",
       "    .dataframe thead th {\n",
       "        text-align: right;\n",
       "    }\n",
       "</style>\n",
       "<table border=\"1\" class=\"dataframe\">\n",
       "  <thead>\n",
       "    <tr style=\"text-align: right;\">\n",
       "      <th></th>\n",
       "      <th>Peak Freq (Hz)</th>\n",
       "      <th>Q1 Freq (Hz)</th>\n",
       "      <th>Q3 Freq (Hz)</th>\n",
       "      <th>Freq 5% (Hz)</th>\n",
       "      <th>Freq 95% (Hz)</th>\n",
       "    </tr>\n",
       "  </thead>\n",
       "  <tbody>\n",
       "    <tr>\n",
       "      <th>0</th>\n",
       "      <td>-0.430543</td>\n",
       "      <td>-0.254874</td>\n",
       "      <td>-0.620714</td>\n",
       "      <td>-0.600376</td>\n",
       "      <td>-0.094445</td>\n",
       "    </tr>\n",
       "    <tr>\n",
       "      <th>1</th>\n",
       "      <td>0.134524</td>\n",
       "      <td>0.478704</td>\n",
       "      <td>-0.072750</td>\n",
       "      <td>-0.146205</td>\n",
       "      <td>0.066873</td>\n",
       "    </tr>\n",
       "    <tr>\n",
       "      <th>2</th>\n",
       "      <td>-2.644194</td>\n",
       "      <td>-2.895315</td>\n",
       "      <td>-0.670664</td>\n",
       "      <td>-1.736127</td>\n",
       "      <td>1.235829</td>\n",
       "    </tr>\n",
       "    <tr>\n",
       "      <th>3</th>\n",
       "      <td>-0.619033</td>\n",
       "      <td>-0.034863</td>\n",
       "      <td>0.823803</td>\n",
       "      <td>-1.206046</td>\n",
       "      <td>1.316488</td>\n",
       "    </tr>\n",
       "    <tr>\n",
       "      <th>4</th>\n",
       "      <td>0.275791</td>\n",
       "      <td>0.771947</td>\n",
       "      <td>0.923491</td>\n",
       "      <td>-0.070617</td>\n",
       "      <td>0.631143</td>\n",
       "    </tr>\n",
       "    <tr>\n",
       "      <th>...</th>\n",
       "      <td>...</td>\n",
       "      <td>...</td>\n",
       "      <td>...</td>\n",
       "      <td>...</td>\n",
       "      <td>...</td>\n",
       "    </tr>\n",
       "    <tr>\n",
       "      <th>955</th>\n",
       "      <td>0.053341</td>\n",
       "      <td>0.607956</td>\n",
       "      <td>0.741757</td>\n",
       "      <td>-0.321284</td>\n",
       "      <td>1.194037</td>\n",
       "    </tr>\n",
       "    <tr>\n",
       "      <th>956</th>\n",
       "      <td>-0.595723</td>\n",
       "      <td>0.068726</td>\n",
       "      <td>1.702927</td>\n",
       "      <td>-0.669180</td>\n",
       "      <td>0.268091</td>\n",
       "    </tr>\n",
       "    <tr>\n",
       "      <th>957</th>\n",
       "      <td>3.471680</td>\n",
       "      <td>1.349045</td>\n",
       "      <td>2.664097</td>\n",
       "      <td>0.582860</td>\n",
       "      <td>1.267989</td>\n",
       "    </tr>\n",
       "    <tr>\n",
       "      <th>958</th>\n",
       "      <td>-0.552519</td>\n",
       "      <td>0.001440</td>\n",
       "      <td>-1.134882</td>\n",
       "      <td>1.278653</td>\n",
       "      <td>-1.398407</td>\n",
       "    </tr>\n",
       "    <tr>\n",
       "      <th>959</th>\n",
       "      <td>0.226358</td>\n",
       "      <td>0.136326</td>\n",
       "      <td>-0.265324</td>\n",
       "      <td>0.304736</td>\n",
       "      <td>-0.139161</td>\n",
       "    </tr>\n",
       "  </tbody>\n",
       "</table>\n",
       "<p>960 rows × 5 columns</p>\n",
       "</div>"
      ],
      "text/plain": [
       "     Peak Freq (Hz)  Q1 Freq (Hz)  Q3 Freq (Hz)  Freq 5% (Hz)  Freq 95% (Hz)\n",
       "0         -0.430543     -0.254874     -0.620714     -0.600376      -0.094445\n",
       "1          0.134524      0.478704     -0.072750     -0.146205       0.066873\n",
       "2         -2.644194     -2.895315     -0.670664     -1.736127       1.235829\n",
       "3         -0.619033     -0.034863      0.823803     -1.206046       1.316488\n",
       "4          0.275791      0.771947      0.923491     -0.070617       0.631143\n",
       "..              ...           ...           ...           ...            ...\n",
       "955        0.053341      0.607956      0.741757     -0.321284       1.194037\n",
       "956       -0.595723      0.068726      1.702927     -0.669180       0.268091\n",
       "957        3.471680      1.349045      2.664097      0.582860       1.267989\n",
       "958       -0.552519      0.001440     -1.134882      1.278653      -1.398407\n",
       "959        0.226358      0.136326     -0.265324      0.304736      -0.139161\n",
       "\n",
       "[960 rows x 5 columns]"
      ]
     },
     "metadata": {},
     "output_type": "display_data"
    }
   ],
   "source": [
    "display(rails_target)\n",
    "display(rails_features)\n",
    "display(rails_scaled_features)"
   ]
  },
  {
   "cell_type": "markdown",
   "metadata": {},
   "source": [
    "### Original Outcomes\n",
    "![](orig_outcomes.jpg)\n",
    "\n"
   ]
  },
  {
   "cell_type": "code",
   "execution_count": 30,
   "metadata": {},
   "outputs": [],
   "source": [
    "from sklearn.model_selection import train_test_split\n",
    "y = rails_target\n",
    "X = rails_features\n",
    "X_scaled = rails_scaled_features\n",
    "\n",
    "X_train, X_test, y_train, y_test = train_test_split(X, y, test_size=.3, random_state=77)\n",
    "X_scaled_train, X_scaled_test, _, _ = train_test_split(X_scaled, y, test_size=.3, random_state=77)"
   ]
  },
  {
   "cell_type": "code",
   "execution_count": 31,
   "metadata": {},
   "outputs": [],
   "source": [
    "from sklearn.linear_model import LogisticRegression\n",
    "\n",
    "lr = LogisticRegression()\n",
    "lr.fit(X_train, y_train)\n",
    "predictions = lr.predict(X_test)\n",
    "\n",
    "lr_scaled = LogisticRegression()\n",
    "lr_scaled.fit(X_scaled_train, y_train)\n",
    "predictions_scaled = lr.predict(X_scaled_test)"
   ]
  },
  {
   "cell_type": "code",
   "execution_count": 32,
   "metadata": {},
   "outputs": [
    {
     "name": "stdout",
     "output_type": "stream",
     "text": [
      "              precision    recall  f1-score   support\n",
      "\n",
      "        CLRA       0.57      0.48      0.52       147\n",
      "        KIRA       0.53      0.62      0.58       141\n",
      "\n",
      "    accuracy                           0.55       288\n",
      "   macro avg       0.55      0.55      0.55       288\n",
      "weighted avg       0.55      0.55      0.55       288\n",
      "\n",
      "              precision    recall  f1-score   support\n",
      "\n",
      "        CLRA       0.56      0.54      0.55       147\n",
      "        KIRA       0.54      0.57      0.55       141\n",
      "\n",
      "    accuracy                           0.55       288\n",
      "   macro avg       0.55      0.55      0.55       288\n",
      "weighted avg       0.55      0.55      0.55       288\n",
      "\n"
     ]
    }
   ],
   "source": [
    "from sklearn.metrics import classification_report, confusion_matrix\n",
    "\n",
    "print(classification_report(y_test, predictions))\n",
    "print(classification_report(y_test, predictions_scaled))"
   ]
  },
  {
   "cell_type": "markdown",
   "metadata": {},
   "source": [
    "---"
   ]
  },
  {
   "cell_type": "code",
   "execution_count": 33,
   "metadata": {},
   "outputs": [],
   "source": [
    "from sklearn.neighbors import KNeighborsClassifier\n",
    "\n",
    "error_rate = []\n",
    "for i in range(1,40):\n",
    "    knn = KNeighborsClassifier(n_neighbors=i)\n",
    "    # knn = KNeighborsClassifier(n_neighbors=i, weights='distance')\n",
    "    # knn.fit(X_train,y_train)\n",
    "    # pred_i = knn.predict(X_test)\n",
    "    knn.fit(X_scaled_train,y_train)\n",
    "    pred_i = knn.predict(X_scaled_test)\n",
    "    error_rate.append(np.mean(pred_i != y_test))"
   ]
  },
  {
   "cell_type": "code",
   "execution_count": 34,
   "metadata": {},
   "outputs": [
    {
     "data": {
      "text/plain": [
       "Text(0, 0.5, 'Error Rate')"
      ]
     },
     "execution_count": 34,
     "metadata": {},
     "output_type": "execute_result"
    },
    {
     "data": {
      "image/png": "[encoded data removed]",
      "text/plain": [
       "<Figure size 720x432 with 1 Axes>"
      ]
     },
     "metadata": {
      "needs_background": "light"
     },
     "output_type": "display_data"
    }
   ],
   "source": [
    "plt.figure(figsize=(10,6))\n",
    "plt.plot(range(1,40),error_rate,color='blue', linestyle='dashed', marker='o',\n",
    "         markerfacecolor='red', markersize=10)\n",
    "plt.title('Error Rate vs. K Value')\n",
    "plt.xlabel('K')\n",
    "plt.ylabel('Error Rate')"
   ]
  },
  {
   "cell_type": "code",
   "execution_count": 46,
   "metadata": {},
   "outputs": [
    {
     "name": "stdout",
     "output_type": "stream",
     "text": [
      "WITH K=5\n",
      "[[131  16]\n",
      " [ 45  96]]\n",
      "              precision    recall  f1-score   support\n",
      "\n",
      "        CLRA       0.74      0.89      0.81       147\n",
      "        KIRA       0.86      0.68      0.76       141\n",
      "\n",
      "    accuracy                           0.79       288\n",
      "   macro avg       0.80      0.79      0.79       288\n",
      "weighted avg       0.80      0.79      0.79       288\n",
      "\n"
     ]
    }
   ],
   "source": [
    "knn = KNeighborsClassifier(n_neighbors=4)\n",
    "# knn = KNeighborsClassifier(n_neighbors=4, weights='distance')\n",
    "\n",
    "knn.fit(X_scaled_train,y_train)\n",
    "pred = knn.predict(X_scaled_test)\n",
    "\n",
    "print('WITH K=5')\n",
    "print(confusion_matrix(y_test,pred))\n",
    "print(classification_report(y_test,pred))"
   ]
  },
  {
   "cell_type": "code",
   "execution_count": 41,
   "metadata": {},
   "outputs": [
    {
     "name": "stdout",
     "output_type": "stream",
     "text": [
      "[[121  26]\n",
      " [ 17 124]]\n",
      "              precision    recall  f1-score   support\n",
      "\n",
      "        CLRA       0.88      0.82      0.85       147\n",
      "        KIRA       0.83      0.88      0.85       141\n",
      "\n",
      "    accuracy                           0.85       288\n",
      "   macro avg       0.85      0.85      0.85       288\n",
      "weighted avg       0.85      0.85      0.85       288\n",
      "\n"
     ]
    }
   ],
   "source": [
    "from sklearn.ensemble import RandomForestClassifier\n",
    "rfc = RandomForestClassifier(n_estimators=100)\n",
    "# rfc.fit(X_train, y_train)\n",
    "# rfc_pred = rfc.predict(X_test)\n",
    "rfc.fit(X_scaled_train, y_train)\n",
    "rfc_pred = rfc.predict(X_scaled_test)\n",
    "print(confusion_matrix(y_test,rfc_pred))\n",
    "print(classification_report(y_test,rfc_pred))"
   ]
  },
  {
   "cell_type": "code",
   "execution_count": 37,
   "metadata": {},
   "outputs": [
    {
     "name": "stdout",
     "output_type": "stream",
     "text": [
      "Fitting 5 folds for each of 75 candidates, totalling 375 fits\n",
      "{'C': 10, 'gamma': 1, 'kernel': 'rbf'}\n",
      "SVC(C=10, gamma=1)\n",
      "[[106  41]\n",
      " [ 28 113]]\n",
      "              precision    recall  f1-score   support\n",
      "\n",
      "        CLRA       0.79      0.72      0.75       147\n",
      "        KIRA       0.73      0.80      0.77       141\n",
      "\n",
      "    accuracy                           0.76       288\n",
      "   macro avg       0.76      0.76      0.76       288\n",
      "weighted avg       0.76      0.76      0.76       288\n",
      "\n"
     ]
    }
   ],
   "source": [
    "from sklearn.svm import SVC\n",
    "from sklearn.model_selection import GridSearchCV\n",
    "\n",
    "# ['linear', 'poly', 'rbf', 'sigmoid', 'precomputed']\n",
    "param_grid = {'C': [0.1,1, 10, 100, 1000], 'gamma': [1,0.1,0.01,0.001,0.0001], 'kernel': ['linear', 'poly', 'rbf']} \n",
    "grid = GridSearchCV(SVC(),param_grid,refit=True,verbose=1)\n",
    "# grid.fit(X_train,y_train)\n",
    "grid.fit(X_scaled_train,y_train)\n",
    "\n",
    "print(grid.best_params_)\n",
    "print(grid.best_estimator_)\n",
    "\n",
    "# grid_predictions = grid.predict(X_test)\n",
    "grid_predictions = grid.predict(X_scaled_test)\n",
    "print(confusion_matrix(y_test,grid_predictions))\n",
    "print(classification_report(y_test,grid_predictions))"
   ]
  },
  {
   "cell_type": "code",
   "execution_count": null,
   "metadata": {},
   "outputs": [],
   "source": []
  }
 ],
 "metadata": {
  "interpreter": {
   "hash": "7bea88ec309c8a5ffe0351500cb6c625ab7a852454a42d3f199f784ff5f9460f"
  },
  "kernelspec": {
   "display_name": "Python 3.9.7 64-bit ('rails': conda)",
   "language": "python",
   "name": "python3"
  },
  "language_info": {
   "codemirror_mode": {
    "name": "ipython",
    "version": 3
   },
   "file_extension": ".py",
   "mimetype": "text/x-python",
   "name": "python",
   "nbconvert_exporter": "python",
   "pygments_lexer": "ipython3",
   "version": "3.9.7"
  },
  "orig_nbformat": 4
 },
 "nbformat": 4,
 "nbformat_minor": 2
}
